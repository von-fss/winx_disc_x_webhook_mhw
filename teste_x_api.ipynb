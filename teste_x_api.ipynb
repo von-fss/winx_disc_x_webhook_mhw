{
 "cells": [
  {
   "cell_type": "markdown",
   "metadata": {},
   "source": [
    "# Droped connection"
   ]
  },
  {
   "cell_type": "code",
   "execution_count": 261,
   "metadata": {},
   "outputs": [],
   "source": [
    "saving_last_return_post = [['1899868262973780255',\n",
    " 'Since Ajarakan fights with powerful punches, the shape of a fist is included in the Sword &amp; Shield, almost like a gauntlet. Fighting with this set looks as if the hunter is punching with a flame-clad left fist, and guarding with their right arm. #MHWilds https://t.co/NmM9Ybbt9X',\n",
    " '2025-03-12T17:01:06.000Z',\n",
    " 0]] "
   ]
  },
  {
   "cell_type": "code",
   "execution_count": 262,
   "metadata": {},
   "outputs": [
    {
     "data": {
      "text/plain": [
       "[['1899868262973780255',\n",
       "  'Since Ajarakan fights with powerful punches, the shape of a fist is included in the Sword &amp; Shield, almost like a gauntlet. Fighting with this set looks as if the hunter is punching with a flame-clad left fist, and guarding with their right arm. #MHWilds https://t.co/NmM9Ybbt9X',\n",
       "  '2025-03-12T17:01:06.000Z',\n",
       "  0]]"
      ]
     },
     "execution_count": 262,
     "metadata": {},
     "output_type": "execute_result"
    }
   ],
   "source": [
    "saving_last_return_post"
   ]
  },
  {
   "cell_type": "markdown",
   "metadata": {},
   "source": [
    "# X connection"
   ]
  },
  {
   "cell_type": "code",
   "execution_count": 1,
   "metadata": {},
   "outputs": [],
   "source": [
    "import requests\n",
    "import json\n",
    "from datetime import datetime"
   ]
  },
  {
   "cell_type": "markdown",
   "metadata": {},
   "source": [
    "https://docs.x.com/x-api/posts/user-posts-timeline-by-user-id"
   ]
  },
  {
   "cell_type": "code",
   "execution_count": 2,
   "metadata": {},
   "outputs": [],
   "source": [
    "with open('configuration.json', 'r') as file:\n",
    "    x_config = json.load(file)"
   ]
  },
  {
   "cell_type": "code",
   "execution_count": 3,
   "metadata": {},
   "outputs": [
    {
     "data": {
      "text/plain": [
       "'AAAAAAAAAAAAAAAAAAAAAIaQzwEAAAAAOyFpaA8LuDlobAVQLt8bE14c82w%3DU4oEYT4he9YPcaF8OuI4KefHkENaTav35WEEq2ubJ7vIAmG2SB'"
      ]
     },
     "execution_count": 3,
     "metadata": {},
     "output_type": "execute_result"
    }
   ],
   "source": [
    "x_config['x_api_bearer_token']"
   ]
  },
  {
   "cell_type": "code",
   "execution_count": 52,
   "metadata": {},
   "outputs": [],
   "source": [
    "# url = \"https://api.twitter.com/2/users/by\"\n",
    "\n",
    "username = \"monsterhunter\"\n",
    "url = f\"https://api.twitter.com/2/users/by/username/{username}\"\n",
    "headers = {\"Authorization\": f\"Bearer {x_config['x_api_bearer_token']}\"}\n",
    "# params = {\"usernames\":\"monsterhunter\"}\n",
    "response = requests.request(\"GET\", url, headers=headers)"
   ]
  },
  {
   "cell_type": "code",
   "execution_count": 53,
   "metadata": {},
   "outputs": [
    {
     "data": {
      "text/plain": [
       "<Response [200]>"
      ]
     },
     "execution_count": 53,
     "metadata": {},
     "output_type": "execute_result"
    }
   ],
   "source": [
    "response"
   ]
  },
  {
   "cell_type": "code",
   "execution_count": 54,
   "metadata": {},
   "outputs": [
    {
     "name": "stdout",
     "output_type": "stream",
     "text": [
      "{\"data\":{\"id\":\"306490355\",\"name\":\"Monster Hunter\",\"username\":\"monsterhunter\"}}\n"
     ]
    }
   ],
   "source": [
    "print(response.text)"
   ]
  },
  {
   "cell_type": "code",
   "execution_count": 4,
   "metadata": {},
   "outputs": [],
   "source": [
    "user_monsterhunter_id = 306490355"
   ]
  },
  {
   "cell_type": "code",
   "execution_count": 5,
   "metadata": {},
   "outputs": [],
   "source": [
    "id = user_monsterhunter_id\n",
    "url = f\"https://api.twitter.com/2/users/{id}/tweets\"\n",
    "headers = {\"Authorization\": f\"Bearer {x_config['x_api_bearer_token']}\"}\n",
    "params = {\"max_results\": 5, \"tweet.fields\":\"created_at\"}\n",
    "\n",
    "response = requests.request(\"GET\", url, headers=headers, params=params)"
   ]
  },
  {
   "cell_type": "code",
   "execution_count": 7,
   "metadata": {},
   "outputs": [
    {
     "data": {
      "text/plain": [
       "'{\"data\":[{\"created_at\":\"2025-03-12T17:01:06.000Z\",\"edit_history_tweet_ids\":[\"1899868262973780255\"],\"id\":\"1899868262973780255\",\"text\":\"Since Ajarakan fights with powerful punches, the shape of a fist is included in the Sword &amp; Shield, almost like a gauntlet. Fighting with this set looks as if the hunter is punching with a flame-clad left fist, and guarding with their right arm. #MHWilds https://t.co/NmM9Ybbt9X\"},{\"created_at\":\"2025-03-12T10:59:46.000Z\",\"edit_history_tweet_ids\":[\"1899777331025072328\"],\"id\":\"1899777331025072328\",\"text\":\"Hunters! Did you know we have some dedicated regional accounts for Monster Hunter? \\\\n\\\\nFR: @MH_Officiel_FR\\\\nDE: @DEMonsterHunter\\\\nES: @ESMonsterHunter\\\\nAR: @MonsterHunterAR\\\\nPL: @MonsterHunterPL\\\\n\\\\nIf any catch your interest, drop them a follow for localised content and more! https://t.co/YwRdoIu7Qk\"},{\"created_at\":\"2025-03-12T00:56:03.000Z\",\"edit_history_tweet_ids\":[\"1899625399191060987\"],\"id\":\"1899625399191060987\",\"text\":\"\\\\uD83D\\\\uDCDC EVENT QUEST \\\\uD83D\\\\uDCDC\\\\n\\\\nA Tempered Chatacabra stands between you and a pile of Hard and Advanced Armor Spheres in \\\\\"Tongue-Tied\\\\\"!\\\\n\\\\nThis quest joins last week\\'s \\\\\"Kut-Ku Gone Cuckoo\\\\\" that has special headgear material rewards!\\\\n\\\\nBoth available until Mar. 18, 4:59pm PT / 23:59pm GMT. https://t.co/GTvRPIPuhQ\"},{\"created_at\":\"2025-03-11T20:17:26.000Z\",\"edit_history_tweet_ids\":[\"1899555283636036040\"],\"id\":\"1899555283636036040\",\"text\":\"What are your current primary and secondary weapons in #MHWilds? https://t.co/Ik4U969r42\"},{\"created_at\":\"2025-03-10T17:14:23.000Z\",\"edit_history_tweet_ids\":[\"1899146829461168452\"],\"id\":\"1899146829461168452\",\"text\":\"The Ajarakan hunter armor\\'s silhoutte resembles flames, while the design draws on elements of Japanese legends. The Palico armor is heavily inspired by guardian dog statues (Koma-inu) found in Japan, to express the Palico\\'s duty to protect hunters. #MHWilds https://t.co/C9bxaozZHd\"}],\"meta\":{\"result_count\":5,\"newest_id\":\"1899868262973780255\",\"oldest_id\":\"1899146829461168452\",\"next_token\":\"7140dibdnow9c7btw4b3o57y8s02a2rrmuc3dhbzl6ipe\"}}'"
      ]
     },
     "execution_count": 7,
     "metadata": {},
     "output_type": "execute_result"
    }
   ],
   "source": [
    "response.text"
   ]
  },
  {
   "cell_type": "markdown",
   "metadata": {},
   "source": [
    "### link format creating\n",
    "https://x.com/monsterhunter/status/1899777331025072328\n",
    "https://x.com/{user}/status/{user_post_id}"
   ]
  },
  {
   "cell_type": "code",
   "execution_count": 207,
   "metadata": {},
   "outputs": [
    {
     "data": {
      "text/plain": [
       "{'data': [{'edit_history_tweet_ids': ['1899868262973780255'],\n",
       "   'text': 'Since Ajarakan fights with powerful punches, the shape of a fist is included in the Sword &amp; Shield, almost like a gauntlet. Fighting with this set looks as if the hunter is punching with a flame-clad left fist, and guarding with their right arm. #MHWilds https://t.co/NmM9Ybbt9X',\n",
       "   'id': '1899868262973780255',\n",
       "   'created_at': '2025-03-12T17:01:06.000Z'},\n",
       "  {'edit_history_tweet_ids': ['1899777331025072328'],\n",
       "   'text': 'Hunters! Did you know we have some dedicated regional accounts for Monster Hunter? \\n\\nFR: @MH_Officiel_FR\\nDE: @DEMonsterHunter\\nES: @ESMonsterHunter\\nAR: @MonsterHunterAR\\nPL: @MonsterHunterPL\\n\\nIf any catch your interest, drop them a follow for localised content and more! https://t.co/YwRdoIu7Qk',\n",
       "   'id': '1899777331025072328',\n",
       "   'created_at': '2025-03-12T10:59:46.000Z'},\n",
       "  {'edit_history_tweet_ids': ['1899625399191060987'],\n",
       "   'text': '📜 EVENT QUEST 📜\\n\\nA Tempered Chatacabra stands between you and a pile of Hard and Advanced Armor Spheres in \"Tongue-Tied\"!\\n\\nThis quest joins last week\\'s \"Kut-Ku Gone Cuckoo\" that has special headgear material rewards!\\n\\nBoth available until Mar. 18, 4:59pm PT / 23:59pm GMT. https://t.co/GTvRPIPuhQ',\n",
       "   'id': '1899625399191060987',\n",
       "   'created_at': '2025-03-12T00:56:03.000Z'},\n",
       "  {'edit_history_tweet_ids': ['1899555283636036040'],\n",
       "   'text': 'What are your current primary and secondary weapons in #MHWilds? https://t.co/Ik4U969r42',\n",
       "   'id': '1899555283636036040',\n",
       "   'created_at': '2025-03-11T20:17:26.000Z'},\n",
       "  {'edit_history_tweet_ids': ['1899146829461168452'],\n",
       "   'text': \"The Ajarakan hunter armor's silhoutte resembles flames, while the design draws on elements of Japanese legends. The Palico armor is heavily inspired by guardian dog statues (Koma-inu) found in Japan, to express the Palico's duty to protect hunters. #MHWilds https://t.co/C9bxaozZHd\",\n",
       "   'id': '1899146829461168452',\n",
       "   'created_at': '2025-03-10T17:14:23.000Z'}],\n",
       " 'meta': {'result_count': 5,\n",
       "  'newest_id': '1899868262973780255',\n",
       "  'oldest_id': '1899146829461168452',\n",
       "  'next_token': '7140dibdnow9c7btw4b3o57y8s02a2rrmuc3dhbzl6ipe'}}"
      ]
     },
     "execution_count": 207,
     "metadata": {},
     "output_type": "execute_result"
    }
   ],
   "source": [
    "response.json()"
   ]
  },
  {
   "cell_type": "code",
   "execution_count": 16,
   "metadata": {},
   "outputs": [],
   "source": [
    "x_target_user = '@monsterhunter'"
   ]
  },
  {
   "cell_type": "code",
   "execution_count": null,
   "metadata": {},
   "outputs": [],
   "source": [
    "x_target_user_id = '????????????'"
   ]
  },
  {
   "cell_type": "code",
   "execution_count": 208,
   "metadata": {},
   "outputs": [
    {
     "data": {
      "text/plain": [
       "[{'edit_history_tweet_ids': ['1899868262973780255'],\n",
       "  'text': 'Since Ajarakan fights with powerful punches, the shape of a fist is included in the Sword &amp; Shield, almost like a gauntlet. Fighting with this set looks as if the hunter is punching with a flame-clad left fist, and guarding with their right arm. #MHWilds https://t.co/NmM9Ybbt9X',\n",
       "  'id': '1899868262973780255',\n",
       "  'created_at': '2025-03-12T17:01:06.000Z'},\n",
       " {'edit_history_tweet_ids': ['1899777331025072328'],\n",
       "  'text': 'Hunters! Did you know we have some dedicated regional accounts for Monster Hunter? \\n\\nFR: @MH_Officiel_FR\\nDE: @DEMonsterHunter\\nES: @ESMonsterHunter\\nAR: @MonsterHunterAR\\nPL: @MonsterHunterPL\\n\\nIf any catch your interest, drop them a follow for localised content and more! https://t.co/YwRdoIu7Qk',\n",
       "  'id': '1899777331025072328',\n",
       "  'created_at': '2025-03-12T10:59:46.000Z'},\n",
       " {'edit_history_tweet_ids': ['1899625399191060987'],\n",
       "  'text': '📜 EVENT QUEST 📜\\n\\nA Tempered Chatacabra stands between you and a pile of Hard and Advanced Armor Spheres in \"Tongue-Tied\"!\\n\\nThis quest joins last week\\'s \"Kut-Ku Gone Cuckoo\" that has special headgear material rewards!\\n\\nBoth available until Mar. 18, 4:59pm PT / 23:59pm GMT. https://t.co/GTvRPIPuhQ',\n",
       "  'id': '1899625399191060987',\n",
       "  'created_at': '2025-03-12T00:56:03.000Z'},\n",
       " {'edit_history_tweet_ids': ['1899555283636036040'],\n",
       "  'text': 'What are your current primary and secondary weapons in #MHWilds? https://t.co/Ik4U969r42',\n",
       "  'id': '1899555283636036040',\n",
       "  'created_at': '2025-03-11T20:17:26.000Z'},\n",
       " {'edit_history_tweet_ids': ['1899146829461168452'],\n",
       "  'text': \"The Ajarakan hunter armor's silhoutte resembles flames, while the design draws on elements of Japanese legends. The Palico armor is heavily inspired by guardian dog statues (Koma-inu) found in Japan, to express the Palico's duty to protect hunters. #MHWilds https://t.co/C9bxaozZHd\",\n",
       "  'id': '1899146829461168452',\n",
       "  'created_at': '2025-03-10T17:14:23.000Z'}]"
      ]
     },
     "execution_count": 208,
     "metadata": {},
     "output_type": "execute_result"
    }
   ],
   "source": [
    "response.json()['data']"
   ]
  },
  {
   "cell_type": "code",
   "execution_count": 209,
   "metadata": {},
   "outputs": [],
   "source": [
    "# database entrance\n",
    "\n",
    "from _utils import winxdb_get_last_date, get_conn_cursor\n",
    "\n",
    "last_date = winxdb_get_last_date()"
   ]
  },
  {
   "cell_type": "code",
   "execution_count": 210,
   "metadata": {},
   "outputs": [
    {
     "data": {
      "text/plain": [
       "'2025-03-12T10:59:46.000Z'"
      ]
     },
     "execution_count": 210,
     "metadata": {},
     "output_type": "execute_result"
    }
   ],
   "source": [
    "last_date"
   ]
  },
  {
   "cell_type": "code",
   "execution_count": 211,
   "metadata": {},
   "outputs": [],
   "source": [
    "x_posts_return = [\n",
    "    [\n",
    "        posts['id'], \n",
    "        posts['text'], \n",
    "        posts['created_at'],\n",
    "        0 if datetime.fromisoformat(posts['created_at'].replace('Z', '+00:00')) > datetime.fromisoformat(last_date.replace('Z', '+00:00')) else 1\n",
    "    ] \n",
    "    for posts in response.json()['data']\n",
    "]"
   ]
  },
  {
   "cell_type": "code",
   "execution_count": 212,
   "metadata": {},
   "outputs": [
    {
     "data": {
      "text/plain": [
       "[['1899868262973780255',\n",
       "  'Since Ajarakan fights with powerful punches, the shape of a fist is included in the Sword &amp; Shield, almost like a gauntlet. Fighting with this set looks as if the hunter is punching with a flame-clad left fist, and guarding with their right arm. #MHWilds https://t.co/NmM9Ybbt9X',\n",
       "  '2025-03-12T17:01:06.000Z',\n",
       "  0],\n",
       " ['1899777331025072328',\n",
       "  'Hunters! Did you know we have some dedicated regional accounts for Monster Hunter? \\n\\nFR: @MH_Officiel_FR\\nDE: @DEMonsterHunter\\nES: @ESMonsterHunter\\nAR: @MonsterHunterAR\\nPL: @MonsterHunterPL\\n\\nIf any catch your interest, drop them a follow for localised content and more! https://t.co/YwRdoIu7Qk',\n",
       "  '2025-03-12T10:59:46.000Z',\n",
       "  1],\n",
       " ['1899625399191060987',\n",
       "  '📜 EVENT QUEST 📜\\n\\nA Tempered Chatacabra stands between you and a pile of Hard and Advanced Armor Spheres in \"Tongue-Tied\"!\\n\\nThis quest joins last week\\'s \"Kut-Ku Gone Cuckoo\" that has special headgear material rewards!\\n\\nBoth available until Mar. 18, 4:59pm PT / 23:59pm GMT. https://t.co/GTvRPIPuhQ',\n",
       "  '2025-03-12T00:56:03.000Z',\n",
       "  1],\n",
       " ['1899555283636036040',\n",
       "  'What are your current primary and secondary weapons in #MHWilds? https://t.co/Ik4U969r42',\n",
       "  '2025-03-11T20:17:26.000Z',\n",
       "  1],\n",
       " ['1899146829461168452',\n",
       "  \"The Ajarakan hunter armor's silhoutte resembles flames, while the design draws on elements of Japanese legends. The Palico armor is heavily inspired by guardian dog statues (Koma-inu) found in Japan, to express the Palico's duty to protect hunters. #MHWilds https://t.co/C9bxaozZHd\",\n",
       "  '2025-03-10T17:14:23.000Z',\n",
       "  1]]"
      ]
     },
     "execution_count": 212,
     "metadata": {},
     "output_type": "execute_result"
    }
   ],
   "source": [
    "x_posts_return"
   ]
  },
  {
   "cell_type": "code",
   "execution_count": 213,
   "metadata": {},
   "outputs": [
    {
     "data": {
      "text/plain": [
       "['1899868262973780255',\n",
       " 'Since Ajarakan fights with powerful punches, the shape of a fist is included in the Sword &amp; Shield, almost like a gauntlet. Fighting with this set looks as if the hunter is punching with a flame-clad left fist, and guarding with their right arm. #MHWilds https://t.co/NmM9Ybbt9X',\n",
       " '2025-03-12T17:01:06.000Z',\n",
       " 0]"
      ]
     },
     "execution_count": 213,
     "metadata": {},
     "output_type": "execute_result"
    }
   ],
   "source": [
    "x_posts_return[0]"
   ]
  },
  {
   "cell_type": "code",
   "execution_count": 214,
   "metadata": {},
   "outputs": [],
   "source": [
    "x_new_posts = [posts for posts in x_posts_return if posts[3] == 0]"
   ]
  },
  {
   "cell_type": "code",
   "execution_count": 232,
   "metadata": {},
   "outputs": [],
   "source": [
    "from _utils import winxdb_get_last_date"
   ]
  },
  {
   "cell_type": "code",
   "execution_count": 257,
   "metadata": {},
   "outputs": [],
   "source": [
    "from _utils import winxdb_insert"
   ]
  },
  {
   "cell_type": "code",
   "execution_count": 258,
   "metadata": {},
   "outputs": [
    {
     "ename": "OperationalError",
     "evalue": "database is locked",
     "output_type": "error",
     "traceback": [
      "\u001b[31m---------------------------------------------------------------------------\u001b[39m",
      "\u001b[31mOperationalError\u001b[39m                          Traceback (most recent call last)",
      "\u001b[36mCell\u001b[39m\u001b[36m \u001b[39m\u001b[32mIn[258]\u001b[39m\u001b[32m, line 1\u001b[39m\n\u001b[32m----> \u001b[39m\u001b[32m1\u001b[39m \u001b[43mwinxdb_insert\u001b[49m\u001b[43m(\u001b[49m\u001b[43mx_new_posts\u001b[49m\u001b[43m)\u001b[49m\n",
      "\u001b[36mFile \u001b[39m\u001b[32mc:\\Users\\felip\\Documents\\Projetos\\winx_disc_x_webhook_mhw\\_utils.py:32\u001b[39m, in \u001b[36mwinxdb_insert\u001b[39m\u001b[34m(posts)\u001b[39m\n\u001b[32m     30\u001b[39m cur: Cursor = get_conn_cursor()\n\u001b[32m     31\u001b[39m cur.executemany(\u001b[33m\"\u001b[39m\u001b[33minsert into last_posts (x_id, post_content, created_at, published) values (?, ? ,? ,?)\u001b[39m\u001b[33m\"\u001b[39m, posts)\n\u001b[32m---> \u001b[39m\u001b[32m32\u001b[39m \u001b[43mcur\u001b[49m\u001b[43m.\u001b[49m\u001b[43mconnection\u001b[49m\u001b[43m.\u001b[49m\u001b[43mcommit\u001b[49m\u001b[43m(\u001b[49m\u001b[43m)\u001b[49m\n\u001b[32m     33\u001b[39m \u001b[38;5;28mprint\u001b[39m(\u001b[33mf\u001b[39m\u001b[33m\"\u001b[39m\u001b[33mPost of X id \u001b[39m\u001b[38;5;132;01m{\u001b[39;00mposts[\u001b[32m0\u001b[39m]\u001b[38;5;132;01m}\u001b[39;00m\u001b[33m, inserted\u001b[39m\u001b[33m\"\u001b[39m)\n",
      "\u001b[31mOperationalError\u001b[39m: database is locked"
     ]
    }
   ],
   "source": [
    "winxdb_insert(x_new_posts)"
   ]
  },
  {
   "cell_type": "code",
   "execution_count": 215,
   "metadata": {},
   "outputs": [
    {
     "data": {
      "text/plain": [
       "[['1899868262973780255',\n",
       "  'Since Ajarakan fights with powerful punches, the shape of a fist is included in the Sword &amp; Shield, almost like a gauntlet. Fighting with this set looks as if the hunter is punching with a flame-clad left fist, and guarding with their right arm. #MHWilds https://t.co/NmM9Ybbt9X',\n",
       "  '2025-03-12T17:01:06.000Z',\n",
       "  0]]"
      ]
     },
     "execution_count": 215,
     "metadata": {},
     "output_type": "execute_result"
    }
   ],
   "source": [
    "x_new_posts"
   ]
  },
  {
   "cell_type": "code",
   "execution_count": 205,
   "metadata": {},
   "outputs": [
    {
     "name": "stdout",
     "output_type": "stream",
     "text": [
      "empty\n"
     ]
    }
   ],
   "source": [
    "if not x_new_posts:\n",
    "    print(\"empty\")"
   ]
  },
  {
   "cell_type": "code",
   "execution_count": 202,
   "metadata": {},
   "outputs": [
    {
     "data": {
      "text/plain": [
       "True"
      ]
     },
     "execution_count": 202,
     "metadata": {},
     "output_type": "execute_result"
    }
   ],
   "source": [
    "x_new_posts == []"
   ]
  },
  {
   "cell_type": "markdown",
   "metadata": {},
   "source": [
    "# Database"
   ]
  },
  {
   "cell_type": "markdown",
   "metadata": {},
   "source": [
    "## Initial setup"
   ]
  },
  {
   "cell_type": "code",
   "execution_count": 8,
   "metadata": {},
   "outputs": [],
   "source": [
    "import sqlite3"
   ]
  },
  {
   "cell_type": "code",
   "execution_count": 9,
   "metadata": {},
   "outputs": [],
   "source": [
    "con = sqlite3.connect(\"winx_webhook.db\")"
   ]
  },
  {
   "cell_type": "code",
   "execution_count": 10,
   "metadata": {},
   "outputs": [],
   "source": [
    "cur = con.cursor()"
   ]
  },
  {
   "cell_type": "code",
   "execution_count": 34,
   "metadata": {},
   "outputs": [],
   "source": [
    "cur.close()\n",
    "con.close()"
   ]
  },
  {
   "cell_type": "code",
   "execution_count": 32,
   "metadata": {},
   "outputs": [],
   "source": [
    "teste = cur.execute(\"select * from last_posts\")"
   ]
  },
  {
   "cell_type": "code",
   "execution_count": 33,
   "metadata": {},
   "outputs": [
    {
     "name": "stdout",
     "output_type": "stream",
     "text": [
      "[(1899146829461168452, \"The Ajarakan hunter armor's silhoutte resembles flames, while the design draws on elements of Japanese legends. The Palico armor is heavily inspired by guardian dog statues (Koma-inu) found in Japan, to express the Palico's duty to protect hunters. #MHWilds https://t.co/C9bxaozZHd\", '2025-03-10T17:14:23.000Z', 0), (1899555283636036040, 'What are your current primary and secondary weapons in #MHWilds? https://t.co/Ik4U969r42', '2025-03-11T20:17:26.000Z', 1), (1899625399191060987, '📜 EVENT QUEST 📜\\n\\nA Tempered Chatacabra stands between you and a pile of Hard and Advanced Armor Spheres in \"Tongue-Tied\"!\\n\\nThis quest joins last week\\'s \"Kut-Ku Gone Cuckoo\" that has special headgear material rewards!\\n\\nBoth available until Mar. 18, 4:59pm PT / 23:59pm GMT. https://t.co/GTvRPIPuhQ', '2025-03-12T00:56:03.000Z', 1), (1899777331025072328, 'Hunters! Did you know we have some dedicated regional accounts for Monster Hunter? \\n\\nFR: @MH_Officiel_FR\\nDE: @DEMonsterHunter\\nES: @ESMonsterHunter\\nAR: @MonsterHunterAR\\nPL: @MonsterHunterPL\\n\\nIf any catch your interest, drop them a follow for localised content and more! https://t.co/YwRdoIu7Qk', '2025-03-12T10:59:46.000Z', 1), (1899868262973780255, 'Since Ajarakan fights with powerful punches, the shape of a fist is included in the Sword &amp; Shield, almost like a gauntlet. Fighting with this set looks as if the hunter is punching with a flame-clad left fist, and guarding with their right arm. #MHWilds https://t.co/NmM9Ybbt9X', '2025-03-12T17:01:06.000Z', 0)]\n"
     ]
    }
   ],
   "source": [
    "print(teste.fetchall())"
   ]
  },
  {
   "cell_type": "code",
   "execution_count": 14,
   "metadata": {},
   "outputs": [
    {
     "data": {
      "text/plain": [
       "<sqlite3.Cursor at 0x1c84c2248c0>"
      ]
     },
     "execution_count": 14,
     "metadata": {},
     "output_type": "execute_result"
    }
   ],
   "source": [
    "cur.execute(\"drop table last_posts\")"
   ]
  },
  {
   "cell_type": "code",
   "execution_count": null,
   "metadata": {},
   "outputs": [
    {
     "data": {
      "text/plain": [
       "<sqlite3.Cursor at 0x1c84c2248c0>"
      ]
     },
     "execution_count": 30,
     "metadata": {},
     "output_type": "execute_result"
    }
   ],
   "source": [
    "cur.execute(\"update last_posts set published = 1 where x_id = 1899146829461168452\")"
   ]
  },
  {
   "cell_type": "code",
   "execution_count": 31,
   "metadata": {},
   "outputs": [],
   "source": [
    "con.commit()"
   ]
  },
  {
   "cell_type": "code",
   "execution_count": 17,
   "metadata": {},
   "outputs": [
    {
     "data": {
      "text/plain": [
       "<sqlite3.Cursor at 0x1c84c2248c0>"
      ]
     },
     "execution_count": 17,
     "metadata": {},
     "output_type": "execute_result"
    }
   ],
   "source": [
    "cur.execute('''\n",
    "    create table if not exists last_posts (\n",
    "        x_id integer primary key,\n",
    "        post_content text,\n",
    "        created_at text,\n",
    "        published integer\n",
    "    )\n",
    "''')"
   ]
  },
  {
   "cell_type": "code",
   "execution_count": 104,
   "metadata": {},
   "outputs": [],
   "source": [
    "first_value_insert = []"
   ]
  },
  {
   "cell_type": "code",
   "execution_count": 115,
   "metadata": {},
   "outputs": [
    {
     "data": {
      "text/plain": [
       "['1899777331025072328',\n",
       " 'Hunters! Did you know we have some dedicated regional accounts for Monster Hunter? \\n\\nFR: @MH_Officiel_FR\\nDE: @DEMonsterHunter\\nES: @ESMonsterHunter\\nAR: @MonsterHunterAR\\nPL: @MonsterHunterPL\\n\\nIf any catch your interest, drop them a follow for localised content and more! https://t.co/YwRdoIu7Qk',\n",
       " '2025-03-12T10:59:46.000Z']"
      ]
     },
     "execution_count": 115,
     "metadata": {},
     "output_type": "execute_result"
    }
   ],
   "source": [
    "x_posts_return[0]"
   ]
  },
  {
   "cell_type": "code",
   "execution_count": 113,
   "metadata": {},
   "outputs": [],
   "source": [
    "first_value_insert = x_posts_return[0].copy()\n",
    "first_value_insert.append(1)"
   ]
  },
  {
   "cell_type": "code",
   "execution_count": 128,
   "metadata": {},
   "outputs": [],
   "source": [
    "first_value_insert = [first_value_insert]"
   ]
  },
  {
   "cell_type": "code",
   "execution_count": 129,
   "metadata": {},
   "outputs": [
    {
     "data": {
      "text/plain": [
       "[['1899777331025072328',\n",
       "  'Hunters! Did you know we have some dedicated regional accounts for Monster Hunter? \\n\\nFR: @MH_Officiel_FR\\nDE: @DEMonsterHunter\\nES: @ESMonsterHunter\\nAR: @MonsterHunterAR\\nPL: @MonsterHunterPL\\n\\nIf any catch your interest, drop them a follow for localised content and more! https://t.co/YwRdoIu7Qk',\n",
       "  '2025-03-12T10:59:46.000Z',\n",
       "  1]]"
      ]
     },
     "execution_count": 129,
     "metadata": {},
     "output_type": "execute_result"
    }
   ],
   "source": [
    "first_value_insert"
   ]
  },
  {
   "cell_type": "code",
   "execution_count": 26,
   "metadata": {},
   "outputs": [],
   "source": [
    "values_to_add = [['1899868262973780255', 'Since Ajarakan fights with powerful punches, the shape of a fist is included in the Sword &amp; Shield, almost like a gauntlet. Fighting with this set looks as if the hunter is punching with a flame-clad left fist, and guarding with their right arm. #MHWilds https://t.co/NmM9Ybbt9X', '2025-03-12T17:01:06.000Z', 0], ['1899777331025072328', 'Hunters! Did you know we have some dedicated regional accounts for Monster Hunter? \\n\\nFR: @MH_Officiel_FR\\nDE: @DEMonsterHunter\\nES: @ESMonsterHunter\\nAR: @MonsterHunterAR\\nPL: @MonsterHunterPL\\n\\nIf any catch your interest, drop them a follow for localised content and more! https://t.co/YwRdoIu7Qk', '2025-03-12T10:59:46.000Z', 1], ['1899625399191060987', '📜 EVENT QUEST 📜\\n\\nA Tempered Chatacabra stands between you and a pile of Hard and Advanced Armor Spheres in \"Tongue-Tied\"!\\n\\nThis quest joins last week\\'s \"Kut-Ku Gone Cuckoo\" that has special headgear material rewards!\\n\\nBoth available until Mar. 18, 4:59pm PT / 23:59pm GMT. https://t.co/GTvRPIPuhQ', '2025-03-12T00:56:03.000Z', 1], ['1899555283636036040', 'What are your current primary and secondary weapons in #MHWilds? https://t.co/Ik4U969r42', '2025-03-11T20:17:26.000Z', 1], ['1899146829461168452', \"The Ajarakan hunter armor's silhoutte resembles flames, while the design draws on elements of Japanese legends. The Palico armor is heavily inspired by guardian dog statues (Koma-inu) found in Japan, to express the Palico's duty to protect hunters. #MHWilds https://t.co/C9bxaozZHd\", '2025-03-10T17:14:23.000Z', 1]]"
   ]
  },
  {
   "cell_type": "code",
   "execution_count": 27,
   "metadata": {},
   "outputs": [
    {
     "ename": "IntegrityError",
     "evalue": "UNIQUE constraint failed: last_posts.x_id",
     "output_type": "error",
     "traceback": [
      "\u001b[31m---------------------------------------------------------------------------\u001b[39m",
      "\u001b[31mIntegrityError\u001b[39m                            Traceback (most recent call last)",
      "\u001b[36mCell\u001b[39m\u001b[36m \u001b[39m\u001b[32mIn[27]\u001b[39m\u001b[32m, line 1\u001b[39m\n\u001b[32m----> \u001b[39m\u001b[32m1\u001b[39m \u001b[43mcur\u001b[49m\u001b[43m.\u001b[49m\u001b[43mexecutemany\u001b[49m\u001b[43m(\u001b[49m\u001b[33;43m\"\u001b[39;49m\u001b[33;43minsert into last_posts (x_id, post_content, created_at, published) values (?, ? ,? ,?)\u001b[39;49m\u001b[33;43m\"\u001b[39;49m\u001b[43m,\u001b[49m\u001b[43m \u001b[49m\u001b[43mvalues_to_add\u001b[49m\u001b[43m)\u001b[49m\n",
      "\u001b[31mIntegrityError\u001b[39m: UNIQUE constraint failed: last_posts.x_id"
     ]
    }
   ],
   "source": [
    "cur.executemany(\"insert into last_posts (x_id, post_content, created_at, published) values (?, ? ,? ,?)\", values_to_add)"
   ]
  },
  {
   "cell_type": "code",
   "execution_count": 23,
   "metadata": {},
   "outputs": [],
   "source": [
    "con.commit()"
   ]
  },
  {
   "cell_type": "code",
   "execution_count": 169,
   "metadata": {},
   "outputs": [],
   "source": [
    "res = cur.execute(\"select max(created_at) from last_posts\")"
   ]
  },
  {
   "cell_type": "code",
   "execution_count": 170,
   "metadata": {},
   "outputs": [],
   "source": [
    "last_date_inserted = res.fetchone()\n",
    "last_date_inserted[0]"
   ]
  },
  {
   "cell_type": "markdown",
   "metadata": {},
   "source": [
    "## Database flow"
   ]
  },
  {
   "cell_type": "code",
   "execution_count": 240,
   "metadata": {},
   "outputs": [],
   "source": [
    "from _utils import winxdb_get_last_date, get_conn_cursor\n",
    "# last_date = winxdb_get_last_date()"
   ]
  },
  {
   "cell_type": "code",
   "execution_count": 241,
   "metadata": {},
   "outputs": [
    {
     "data": {
      "text/plain": [
       "1899868262973780255"
      ]
     },
     "execution_count": 241,
     "metadata": {},
     "output_type": "execute_result"
    }
   ],
   "source": [
    "int(x_new_posts[0][0])"
   ]
  },
  {
   "cell_type": "code",
   "execution_count": 242,
   "metadata": {},
   "outputs": [],
   "source": [
    "res = cur.execute(f\"select id from last_posts where x_id = '{int(x_new_posts[0][0])}'\")\n",
    "teste_exist = res.fetchone()"
   ]
  },
  {
   "cell_type": "code",
   "execution_count": 245,
   "metadata": {},
   "outputs": [],
   "source": [
    "if teste_exist:\n",
    "    print(\"exist\")"
   ]
  },
  {
   "cell_type": "code",
   "execution_count": 248,
   "metadata": {},
   "outputs": [
    {
     "data": {
      "text/plain": [
       "<module '_utils' from 'c:\\\\Users\\\\felip\\\\Documents\\\\Projetos\\\\winx_disc_x_webhook_mhw\\\\_utils.py'>"
      ]
     },
     "execution_count": 248,
     "metadata": {},
     "output_type": "execute_result"
    }
   ],
   "source": []
  },
  {
   "cell_type": "code",
   "execution_count": 256,
   "metadata": {},
   "outputs": [
    {
     "ename": "OperationalError",
     "evalue": "database is locked",
     "output_type": "error",
     "traceback": [
      "\u001b[31m---------------------------------------------------------------------------\u001b[39m",
      "\u001b[31mOperationalError\u001b[39m                          Traceback (most recent call last)",
      "\u001b[36mCell\u001b[39m\u001b[36m \u001b[39m\u001b[32mIn[256]\u001b[39m\u001b[32m, line 2\u001b[39m\n\u001b[32m      1\u001b[39m \u001b[38;5;28;01mfrom\u001b[39;00m\u001b[38;5;250m \u001b[39m\u001b[34;01m_utils\u001b[39;00m\u001b[38;5;250m \u001b[39m\u001b[38;5;28;01mimport\u001b[39;00m winxdb_insert\n\u001b[32m----> \u001b[39m\u001b[32m2\u001b[39m \u001b[43mwinxdb_insert\u001b[49m\u001b[43m(\u001b[49m\u001b[43mx_new_posts\u001b[49m\u001b[43m)\u001b[49m\n",
      "\u001b[36mFile \u001b[39m\u001b[32mc:\\Users\\felip\\Documents\\Projetos\\winx_disc_x_webhook_mhw\\_utils.py:32\u001b[39m, in \u001b[36mwinxdb_insert\u001b[39m\u001b[34m(posts)\u001b[39m\n\u001b[32m     30\u001b[39m cur: Cursor = get_conn_cursor()\n\u001b[32m     31\u001b[39m cur.executemany(\u001b[33m\"\u001b[39m\u001b[33minsert into last_posts (x_id, post_content, created_at, published) values (?, ? ,? ,?)\u001b[39m\u001b[33m\"\u001b[39m, posts)\n\u001b[32m---> \u001b[39m\u001b[32m32\u001b[39m \u001b[43mcur\u001b[49m\u001b[43m.\u001b[49m\u001b[43mconnection\u001b[49m\u001b[43m.\u001b[49m\u001b[43mcommit\u001b[49m\u001b[43m(\u001b[49m\u001b[43m)\u001b[49m\n\u001b[32m     33\u001b[39m \u001b[38;5;28mprint\u001b[39m(\u001b[33mf\u001b[39m\u001b[33m\"\u001b[39m\u001b[33mPost of X id \u001b[39m\u001b[38;5;132;01m{\u001b[39;00mposts[\u001b[32m0\u001b[39m]\u001b[38;5;132;01m}\u001b[39;00m\u001b[33m, inserted\u001b[39m\u001b[33m\"\u001b[39m)\n",
      "\u001b[31mOperationalError\u001b[39m: database is locked"
     ]
    }
   ],
   "source": [
    "from _utils import winxdb_insert\n",
    "winxdb_insert(x_new_posts)"
   ]
  },
  {
   "cell_type": "code",
   "execution_count": 260,
   "metadata": {},
   "outputs": [
    {
     "ename": "OperationalError",
     "evalue": "database is locked",
     "output_type": "error",
     "traceback": [
      "\u001b[31m---------------------------------------------------------------------------\u001b[39m",
      "\u001b[31mOperationalError\u001b[39m                          Traceback (most recent call last)",
      "\u001b[36mCell\u001b[39m\u001b[36m \u001b[39m\u001b[32mIn[260]\u001b[39m\u001b[32m, line 3\u001b[39m\n\u001b[32m      1\u001b[39m con = sqlite3.connect(\u001b[33m\"\u001b[39m\u001b[33mwinx_webhook.db\u001b[39m\u001b[33m\"\u001b[39m)\n\u001b[32m      2\u001b[39m cur = con.cursor()\n\u001b[32m----> \u001b[39m\u001b[32m3\u001b[39m \u001b[43mcur\u001b[49m\u001b[43m.\u001b[49m\u001b[43mexecute\u001b[49m\u001b[43m(\u001b[49m\u001b[33;43m\"\u001b[39;49m\u001b[33;43mVACUUM;\u001b[39;49m\u001b[33;43m\"\u001b[39;49m\u001b[43m)\u001b[49m\n\u001b[32m      4\u001b[39m con.commit()\n",
      "\u001b[31mOperationalError\u001b[39m: database is locked"
     ]
    }
   ],
   "source": [
    "con = sqlite3.connect(\"winx_webhook.db\")\n",
    "cur = con.cursor()\n",
    "cur.execute(\"VACUUM;\")\n",
    "con.commit()\n"
   ]
  }
 ],
 "metadata": {
  "kernelspec": {
   "display_name": ".venv",
   "language": "python",
   "name": "python3"
  },
  "language_info": {
   "codemirror_mode": {
    "name": "ipython",
    "version": 3
   },
   "file_extension": ".py",
   "mimetype": "text/x-python",
   "name": "python",
   "nbconvert_exporter": "python",
   "pygments_lexer": "ipython3",
   "version": "3.13.2"
  }
 },
 "nbformat": 4,
 "nbformat_minor": 2
}
